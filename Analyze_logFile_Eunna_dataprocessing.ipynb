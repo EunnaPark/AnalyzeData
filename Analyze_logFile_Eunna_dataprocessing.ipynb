{
 "cells": [
  {
   "cell_type": "code",
   "execution_count": 1,
   "metadata": {},
   "outputs": [],
   "source": [
    "import numpy as np\n",
    "import pandas as pd # data processing, CSV file I/O (e.g. pd.read_csv)\n",
    "import os\n",
    "from datetime import datetime"
   ]
  },
  {
   "cell_type": "code",
   "execution_count": 2,
   "metadata": {},
   "outputs": [
    {
     "data": {
      "text/plain": [
       "1569898"
      ]
     },
     "execution_count": 2,
     "metadata": {},
     "output_type": "execute_result"
    }
   ],
   "source": [
    "os.chdir(\"C:/Users/maiji/OneDrive - Conestoga College/BigDataArchitecture_2nd_term/web_analistics_BI/\")\n",
    "\n",
    "\n",
    "file = open('access_log_Aug95', 'r') \n",
    "line = file.readlines() \n",
    "\n",
    "len(line)"
   ]
  },
  {
   "cell_type": "code",
   "execution_count": 30,
   "metadata": {
    "scrolled": true
   },
   "outputs": [
    {
     "name": "stdout",
     "output_type": "stream",
     "text": [
      "['in24.inetnebr.com', '-', '-', '[01/Aug/1995:00:00:01', '-0400]', '\"GET', '/shuttle/missions/sts-68/news/sts-68-mcc-05.txt', 'HTTP/1.0\"', '200', '1839']\n"
     ]
    }
   ],
   "source": [
    "n = len(line)\n",
    "col1  = []\n",
    "col2  = []\n",
    "col3  = []\n",
    "col4   = []\n",
    "col5   = []\n",
    "\n",
    "for i in range(n):\n",
    "    \n",
    "    s = line[i].split()\n",
    "    print(s)\n",
    "    break;\n",
    "    col1.append(s[0]) #host \n",
    "    \n",
    " \n",
    "    #[01/Aug/1995:00:00:01 -0400\n",
    "    t = s[3].strip(\"[\")\n",
    "    date = t.replace(r\" -0400\",\"\")    #delete -0400 and bracket around date \n",
    "    \n",
    "    dtfmt ='%d/%b/%Y:%H:%M:%S'   # %H -> 24 hours, %I-> 12 hours\n",
    "    dt = datetime.strptime(date, dtfmt)\n",
    "    col2.append(dt)\n",
    "    col4.append(s[len(s)-2])#status\n",
    "    col5.append(s[len(s)-1].replace('-','0'))#byte\n",
    "    \n"
   ]
  },
  {
   "cell_type": "code",
   "execution_count": 7,
   "metadata": {
    "scrolled": true
   },
   "outputs": [],
   "source": [
    "df = None\n",
    "df = pd.DataFrame([col1,col2,col3,col4,col5])\n",
    "df = df.T\n",
    "df.columns=['host','date','htext','status','bytes']"
   ]
  },
  {
   "cell_type": "code",
   "execution_count": 8,
   "metadata": {},
   "outputs": [
    {
     "name": "stdout",
     "output_type": "stream",
     "text": [
      "total the number of rows :  1569898\n"
     ]
    },
    {
     "data": {
      "text/html": [
       "<div>\n",
       "<style scoped>\n",
       "    .dataframe tbody tr th:only-of-type {\n",
       "        vertical-align: middle;\n",
       "    }\n",
       "\n",
       "    .dataframe tbody tr th {\n",
       "        vertical-align: top;\n",
       "    }\n",
       "\n",
       "    .dataframe thead th {\n",
       "        text-align: right;\n",
       "    }\n",
       "</style>\n",
       "<table border=\"1\" class=\"dataframe\">\n",
       "  <thead>\n",
       "    <tr style=\"text-align: right;\">\n",
       "      <th></th>\n",
       "      <th>host</th>\n",
       "      <th>date</th>\n",
       "      <th>htext</th>\n",
       "      <th>status</th>\n",
       "      <th>bytes</th>\n",
       "    </tr>\n",
       "  </thead>\n",
       "  <tbody>\n",
       "    <tr>\n",
       "      <td>0</td>\n",
       "      <td>in24.inetnebr.com</td>\n",
       "      <td>1995-08-01 00:00:01</td>\n",
       "      <td>None</td>\n",
       "      <td>200</td>\n",
       "      <td>1839</td>\n",
       "    </tr>\n",
       "    <tr>\n",
       "      <td>1</td>\n",
       "      <td>uplherc.upl.com</td>\n",
       "      <td>1995-08-01 00:00:07</td>\n",
       "      <td>None</td>\n",
       "      <td>304</td>\n",
       "      <td>0</td>\n",
       "    </tr>\n",
       "    <tr>\n",
       "      <td>2</td>\n",
       "      <td>uplherc.upl.com</td>\n",
       "      <td>1995-08-01 00:00:08</td>\n",
       "      <td>None</td>\n",
       "      <td>304</td>\n",
       "      <td>0</td>\n",
       "    </tr>\n",
       "    <tr>\n",
       "      <td>3</td>\n",
       "      <td>uplherc.upl.com</td>\n",
       "      <td>1995-08-01 00:00:08</td>\n",
       "      <td>None</td>\n",
       "      <td>304</td>\n",
       "      <td>0</td>\n",
       "    </tr>\n",
       "    <tr>\n",
       "      <td>4</td>\n",
       "      <td>uplherc.upl.com</td>\n",
       "      <td>1995-08-01 00:00:08</td>\n",
       "      <td>None</td>\n",
       "      <td>304</td>\n",
       "      <td>0</td>\n",
       "    </tr>\n",
       "    <tr>\n",
       "      <td>5</td>\n",
       "      <td>ix-esc-ca2-07.ix.netcom.com</td>\n",
       "      <td>1995-08-01 00:00:09</td>\n",
       "      <td>None</td>\n",
       "      <td>200</td>\n",
       "      <td>1713</td>\n",
       "    </tr>\n",
       "    <tr>\n",
       "      <td>6</td>\n",
       "      <td>uplherc.upl.com</td>\n",
       "      <td>1995-08-01 00:00:10</td>\n",
       "      <td>None</td>\n",
       "      <td>304</td>\n",
       "      <td>0</td>\n",
       "    </tr>\n",
       "    <tr>\n",
       "      <td>7</td>\n",
       "      <td>slppp6.intermind.net</td>\n",
       "      <td>1995-08-01 00:00:10</td>\n",
       "      <td>None</td>\n",
       "      <td>200</td>\n",
       "      <td>1687</td>\n",
       "    </tr>\n",
       "    <tr>\n",
       "      <td>8</td>\n",
       "      <td>piweba4y.prodigy.com</td>\n",
       "      <td>1995-08-01 00:00:10</td>\n",
       "      <td>None</td>\n",
       "      <td>200</td>\n",
       "      <td>11853</td>\n",
       "    </tr>\n",
       "    <tr>\n",
       "      <td>9</td>\n",
       "      <td>slppp6.intermind.net</td>\n",
       "      <td>1995-08-01 00:00:11</td>\n",
       "      <td>None</td>\n",
       "      <td>200</td>\n",
       "      <td>9202</td>\n",
       "    </tr>\n",
       "  </tbody>\n",
       "</table>\n",
       "</div>"
      ],
      "text/plain": [
       "                          host                date htext status  bytes\n",
       "0            in24.inetnebr.com 1995-08-01 00:00:01  None    200   1839\n",
       "1              uplherc.upl.com 1995-08-01 00:00:07  None    304      0\n",
       "2              uplherc.upl.com 1995-08-01 00:00:08  None    304      0\n",
       "3              uplherc.upl.com 1995-08-01 00:00:08  None    304      0\n",
       "4              uplherc.upl.com 1995-08-01 00:00:08  None    304      0\n",
       "5  ix-esc-ca2-07.ix.netcom.com 1995-08-01 00:00:09  None    200   1713\n",
       "6              uplherc.upl.com 1995-08-01 00:00:10  None    304      0\n",
       "7         slppp6.intermind.net 1995-08-01 00:00:10  None    200   1687\n",
       "8         piweba4y.prodigy.com 1995-08-01 00:00:10  None    200  11853\n",
       "9         slppp6.intermind.net 1995-08-01 00:00:11  None    200   9202"
      ]
     },
     "execution_count": 8,
     "metadata": {},
     "output_type": "execute_result"
    }
   ],
   "source": [
    "print(\"total the number of rows : \" , len(df))\n",
    "df.head(10)"
   ]
  },
  {
   "cell_type": "code",
   "execution_count": 9,
   "metadata": {},
   "outputs": [
    {
     "data": {
      "text/html": [
       "<div>\n",
       "<style scoped>\n",
       "    .dataframe tbody tr th:only-of-type {\n",
       "        vertical-align: middle;\n",
       "    }\n",
       "\n",
       "    .dataframe tbody tr th {\n",
       "        vertical-align: top;\n",
       "    }\n",
       "\n",
       "    .dataframe thead th {\n",
       "        text-align: right;\n",
       "    }\n",
       "</style>\n",
       "<table border=\"1\" class=\"dataframe\">\n",
       "  <thead>\n",
       "    <tr style=\"text-align: right;\">\n",
       "      <th></th>\n",
       "      <th>host</th>\n",
       "      <th>date</th>\n",
       "      <th>htext</th>\n",
       "      <th>status</th>\n",
       "      <th>bytes</th>\n",
       "    </tr>\n",
       "  </thead>\n",
       "  <tbody>\n",
       "    <tr>\n",
       "      <td>count</td>\n",
       "      <td>1569898</td>\n",
       "      <td>1569898</td>\n",
       "      <td>0</td>\n",
       "      <td>1569898</td>\n",
       "      <td>1569898</td>\n",
       "    </tr>\n",
       "    <tr>\n",
       "      <td>unique</td>\n",
       "      <td>75060</td>\n",
       "      <td>975722</td>\n",
       "      <td>0</td>\n",
       "      <td>8</td>\n",
       "      <td>7623</td>\n",
       "    </tr>\n",
       "    <tr>\n",
       "      <td>top</td>\n",
       "      <td>edams.ksc.nasa.gov</td>\n",
       "      <td>1995-08-29 11:11:47</td>\n",
       "      <td>NaN</td>\n",
       "      <td>200</td>\n",
       "      <td>0</td>\n",
       "    </tr>\n",
       "    <tr>\n",
       "      <td>freq</td>\n",
       "      <td>6530</td>\n",
       "      <td>18</td>\n",
       "      <td>NaN</td>\n",
       "      <td>1398988</td>\n",
       "      <td>154588</td>\n",
       "    </tr>\n",
       "    <tr>\n",
       "      <td>first</td>\n",
       "      <td>NaN</td>\n",
       "      <td>1995-08-01 00:00:01</td>\n",
       "      <td>NaN</td>\n",
       "      <td>NaN</td>\n",
       "      <td>NaN</td>\n",
       "    </tr>\n",
       "    <tr>\n",
       "      <td>last</td>\n",
       "      <td>NaN</td>\n",
       "      <td>1995-08-31 23:59:53</td>\n",
       "      <td>NaN</td>\n",
       "      <td>NaN</td>\n",
       "      <td>NaN</td>\n",
       "    </tr>\n",
       "  </tbody>\n",
       "</table>\n",
       "</div>"
      ],
      "text/plain": [
       "                      host                 date htext   status    bytes\n",
       "count              1569898              1569898     0  1569898  1569898\n",
       "unique               75060               975722     0        8     7623\n",
       "top     edams.ksc.nasa.gov  1995-08-29 11:11:47   NaN      200        0\n",
       "freq                  6530                   18   NaN  1398988   154588\n",
       "first                  NaN  1995-08-01 00:00:01   NaN      NaN      NaN\n",
       "last                   NaN  1995-08-31 23:59:53   NaN      NaN      NaN"
      ]
     },
     "execution_count": 9,
     "metadata": {},
     "output_type": "execute_result"
    }
   ],
   "source": [
    "df.info\n",
    "df.describe()"
   ]
  },
  {
   "cell_type": "code",
   "execution_count": 10,
   "metadata": {},
   "outputs": [
    {
     "data": {
      "text/plain": [
       "edams.ksc.nasa.gov          6530\n",
       "piweba4y.prodigy.com        4846\n",
       "163.206.89.4                4791\n",
       "piweba5y.prodigy.com        4607\n",
       "piweba3y.prodigy.com        4416\n",
       "                            ... \n",
       "128.32.180.200                 1\n",
       "metcom.com                     1\n",
       "ix-dc11-29.ix.netcom.com       1\n",
       "193.44.236.25                  1\n",
       "146.83.182.20                  1\n",
       "Name: host, Length: 75060, dtype: int64"
      ]
     },
     "execution_count": 10,
     "metadata": {},
     "output_type": "execute_result"
    }
   ],
   "source": [
    "df[\"host\"].value_counts()"
   ]
  },
  {
   "cell_type": "code",
   "execution_count": 11,
   "metadata": {},
   "outputs": [
    {
     "data": {
      "text/plain": [
       "0"
      ]
     },
     "execution_count": 11,
     "metadata": {},
     "output_type": "execute_result"
    }
   ],
   "source": [
    "df[\"date\"].isnull().sum()\n"
   ]
  },
  {
   "cell_type": "code",
   "execution_count": 12,
   "metadata": {},
   "outputs": [
    {
     "data": {
      "text/plain": [
       "Series([], Name: htext, dtype: int64)"
      ]
     },
     "execution_count": 12,
     "metadata": {},
     "output_type": "execute_result"
    }
   ],
   "source": [
    "df[\"htext\"].value_counts()"
   ]
  },
  {
   "cell_type": "code",
   "execution_count": 13,
   "metadata": {
    "scrolled": false
   },
   "outputs": [
    {
     "data": {
      "text/plain": [
       "200    1398988\n",
       "304     134146\n",
       "302      26497\n",
       "404      10056\n",
       "403        171\n",
       "501         27\n",
       "400         10\n",
       "500          3\n",
       "Name: status, dtype: int64"
      ]
     },
     "execution_count": 13,
     "metadata": {},
     "output_type": "execute_result"
    }
   ],
   "source": [
    "df[\"status\"].value_counts()"
   ]
  },
  {
   "cell_type": "code",
   "execution_count": 14,
   "metadata": {},
   "outputs": [
    {
     "data": {
      "text/html": [
       "<div>\n",
       "<style scoped>\n",
       "    .dataframe tbody tr th:only-of-type {\n",
       "        vertical-align: middle;\n",
       "    }\n",
       "\n",
       "    .dataframe tbody tr th {\n",
       "        vertical-align: top;\n",
       "    }\n",
       "\n",
       "    .dataframe thead th {\n",
       "        text-align: right;\n",
       "    }\n",
       "</style>\n",
       "<table border=\"1\" class=\"dataframe\">\n",
       "  <thead>\n",
       "    <tr style=\"text-align: right;\">\n",
       "      <th></th>\n",
       "      <th>host</th>\n",
       "      <th>date</th>\n",
       "      <th>htext</th>\n",
       "      <th>status</th>\n",
       "      <th>bytes</th>\n",
       "    </tr>\n",
       "  </thead>\n",
       "  <tbody>\n",
       "    <tr>\n",
       "      <td>0</td>\n",
       "      <td>in24.inetnebr.com</td>\n",
       "      <td>1995-08-01 00:00:01</td>\n",
       "      <td>None</td>\n",
       "      <td>200</td>\n",
       "      <td>1839</td>\n",
       "    </tr>\n",
       "    <tr>\n",
       "      <td>1008290</td>\n",
       "      <td>bstfirewall.bst.bls.com</td>\n",
       "      <td>1995-08-22 12:21:50</td>\n",
       "      <td>None</td>\n",
       "      <td>200</td>\n",
       "      <td>46053</td>\n",
       "    </tr>\n",
       "    <tr>\n",
       "      <td>1008289</td>\n",
       "      <td>delta-air.com</td>\n",
       "      <td>1995-08-22 12:21:46</td>\n",
       "      <td>None</td>\n",
       "      <td>200</td>\n",
       "      <td>8083</td>\n",
       "    </tr>\n",
       "    <tr>\n",
       "      <td>1008288</td>\n",
       "      <td>slsyd1p10.ozemail.com.au</td>\n",
       "      <td>1995-08-22 12:21:45</td>\n",
       "      <td>None</td>\n",
       "      <td>200</td>\n",
       "      <td>4745</td>\n",
       "    </tr>\n",
       "    <tr>\n",
       "      <td>1008287</td>\n",
       "      <td>cicaa2-cs-7.dial.cic.net</td>\n",
       "      <td>1995-08-22 12:21:44</td>\n",
       "      <td>None</td>\n",
       "      <td>200</td>\n",
       "      <td>46053</td>\n",
       "    </tr>\n",
       "    <tr>\n",
       "      <td>1008286</td>\n",
       "      <td>intgate.raleigh.ibm.com</td>\n",
       "      <td>1995-08-22 12:21:43</td>\n",
       "      <td>None</td>\n",
       "      <td>200</td>\n",
       "      <td>1798</td>\n",
       "    </tr>\n",
       "    <tr>\n",
       "      <td>1008285</td>\n",
       "      <td>cicaa2-cs-7.dial.cic.net</td>\n",
       "      <td>1995-08-22 12:21:43</td>\n",
       "      <td>None</td>\n",
       "      <td>200</td>\n",
       "      <td>1204</td>\n",
       "    </tr>\n",
       "    <tr>\n",
       "      <td>1008284</td>\n",
       "      <td>delta-air.com</td>\n",
       "      <td>1995-08-22 12:21:43</td>\n",
       "      <td>None</td>\n",
       "      <td>200</td>\n",
       "      <td>11996</td>\n",
       "    </tr>\n",
       "    <tr>\n",
       "      <td>1008283</td>\n",
       "      <td>gaia.vr.net</td>\n",
       "      <td>1995-08-22 12:21:42</td>\n",
       "      <td>None</td>\n",
       "      <td>200</td>\n",
       "      <td>46053</td>\n",
       "    </tr>\n",
       "    <tr>\n",
       "      <td>1008291</td>\n",
       "      <td>simi.is</td>\n",
       "      <td>1995-08-22 12:21:51</td>\n",
       "      <td>None</td>\n",
       "      <td>200</td>\n",
       "      <td>2443</td>\n",
       "    </tr>\n",
       "  </tbody>\n",
       "</table>\n",
       "</div>"
      ],
      "text/plain": [
       "                             host                date htext status  bytes\n",
       "0               in24.inetnebr.com 1995-08-01 00:00:01  None    200   1839\n",
       "1008290   bstfirewall.bst.bls.com 1995-08-22 12:21:50  None    200  46053\n",
       "1008289             delta-air.com 1995-08-22 12:21:46  None    200   8083\n",
       "1008288  slsyd1p10.ozemail.com.au 1995-08-22 12:21:45  None    200   4745\n",
       "1008287  cicaa2-cs-7.dial.cic.net 1995-08-22 12:21:44  None    200  46053\n",
       "1008286   intgate.raleigh.ibm.com 1995-08-22 12:21:43  None    200   1798\n",
       "1008285  cicaa2-cs-7.dial.cic.net 1995-08-22 12:21:43  None    200   1204\n",
       "1008284             delta-air.com 1995-08-22 12:21:43  None    200  11996\n",
       "1008283               gaia.vr.net 1995-08-22 12:21:42  None    200  46053\n",
       "1008291                   simi.is 1995-08-22 12:21:51  None    200   2443"
      ]
     },
     "execution_count": 14,
     "metadata": {},
     "output_type": "execute_result"
    }
   ],
   "source": [
    "df.sort_values([\"status\"], axis=0, \n",
    "                 ascending=True, inplace=True) \n",
    "df.head(10)"
   ]
  },
  {
   "cell_type": "code",
   "execution_count": 16,
   "metadata": {},
   "outputs": [
    {
     "data": {
      "text/plain": [
       "0          154588\n",
       "786         77836\n",
       "1204        63754\n",
       "363         58392\n",
       "234         58056\n",
       "            ...  \n",
       "5176            1\n",
       "42017           1\n",
       "71640           1\n",
       "44990           1\n",
       "1064960         1\n",
       "Name: bytes, Length: 7623, dtype: int64"
      ]
     },
     "execution_count": 16,
     "metadata": {},
     "output_type": "execute_result"
    }
   ],
   "source": [
    "df[\"bytes\"].value_counts()"
   ]
  },
  {
   "cell_type": "code",
   "execution_count": 17,
   "metadata": {},
   "outputs": [
    {
     "data": {
      "text/plain": [
       "count     1569897\n",
       "unique          8\n",
       "top           200\n",
       "freq      1398987\n",
       "Name: status, dtype: object"
      ]
     },
     "execution_count": 17,
     "metadata": {},
     "output_type": "execute_result"
    }
   ],
   "source": [
    "df[\"status\"].describe()"
   ]
  },
  {
   "cell_type": "code",
   "execution_count": 18,
   "metadata": {},
   "outputs": [],
   "source": [
    "#choose columns that I will use in the tableau\n",
    "data_subset = df[['host','date','htext','status','bytes']]\n",
    "#export.\n",
    "data_subset.to_csv (r'C:\\Users\\maiji\\OneDrive - Conestoga College\\BigDataArchitecture_2nd_term\\web_analistics_BI\\cleaned_dataset_Web_BI_Eunna_midterm.csv', index = False, header=True)\n"
   ]
  },
  {
   "cell_type": "code",
   "execution_count": null,
   "metadata": {},
   "outputs": [],
   "source": []
  },
  {
   "cell_type": "code",
   "execution_count": null,
   "metadata": {},
   "outputs": [],
   "source": []
  },
  {
   "cell_type": "code",
   "execution_count": null,
   "metadata": {},
   "outputs": [],
   "source": []
  },
  {
   "cell_type": "code",
   "execution_count": null,
   "metadata": {},
   "outputs": [],
   "source": []
  }
 ],
 "metadata": {
  "kernelspec": {
   "display_name": "Python 3",
   "language": "python",
   "name": "python3"
  },
  "language_info": {
   "codemirror_mode": {
    "name": "ipython",
    "version": 3
   },
   "file_extension": ".py",
   "mimetype": "text/x-python",
   "name": "python",
   "nbconvert_exporter": "python",
   "pygments_lexer": "ipython3",
   "version": "3.7.4"
  }
 },
 "nbformat": 4,
 "nbformat_minor": 2
}
